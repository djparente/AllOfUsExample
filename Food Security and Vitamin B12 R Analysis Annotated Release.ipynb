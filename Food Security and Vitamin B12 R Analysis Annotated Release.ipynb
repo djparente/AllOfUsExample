{
 "cells": [
  {
   "cell_type": "markdown",
   "id": "6ed406f0",
   "metadata": {},
   "source": [
    "# Set up the envirionment"
   ]
  },
  {
   "cell_type": "code",
   "execution_count": null,
   "id": "e676fe57",
   "metadata": {},
   "outputs": [],
   "source": [
    "# The default envirionment comes loaded with many of the most common R packages\n",
    "# Additional packages can  be installed into the R enviroinment using install.packages()\n",
    "# Here, we install a few packages needed for the multivariable analysis\n",
    "install.packages(c(\"car\", \"rms\", \"arm\"))"
   ]
  },
  {
   "cell_type": "code",
   "execution_count": null,
   "id": "470f590b",
   "metadata": {},
   "outputs": [],
   "source": [
    "# We next load the required libraries\n",
    "require(rms)\n",
    "library(formula.tools)\n",
    "library(gtools)\n",
    "library(car)\n",
    "library(arm)\n",
    "library(tidyverse)\n"
   ]
  },
  {
   "cell_type": "markdown",
   "id": "9f09218f",
   "metadata": {},
   "source": [
    "# Load Analysis Functions"
   ]
  },
  {
   "cell_type": "code",
   "execution_count": null,
   "id": "b9f1d612",
   "metadata": {},
   "outputs": [],
   "source": [
    "# We define a set of analysis functions that will implement a multivariable analysis\n",
    "# These may be copy/pasted into your own code unmodified, if desired\n",
    "\n",
    "# This formats p-values to three decimal places, or for p-values <0.001 displays \"<0.001\"\n",
    "pfmt <- function(pvals) {\n",
    "  res <- c()\n",
    "  for(i in 1:length(pvals)) {\n",
    "    if( pvals[i] < 0.001 ) {\n",
    "      res <- c(res, \"<0.001\")\n",
    "    } else {\n",
    "      formatted <- format(round(pvals[i], 3), nsmall = 3)\n",
    "      res <- c(res, formatted)\n",
    "    }\n",
    "  }\n",
    "  \n",
    "  return(res)\n",
    "}  \n",
    "\n",
    "# Accepts a logistic regression fit, calculates the odds ratio, extracts\n",
    "# the 95% confidence interval and extracts/formats p-values\n",
    "extractORandCI <- function(fit) {\n",
    "    # Extract log or and log ci from the fit\n",
    "    or <- coef(fit)\n",
    "    ci <- suppressMessages(confint(fit))\n",
    "    \n",
    "    rn <- attr(or, 'names')\n",
    "    \n",
    "    # Exponentiate to get actual or and CI\n",
    "    or <- exp(or)\n",
    "    ci <- exp(ci)\n",
    "    \n",
    "    # Extract the p value\n",
    "    p <- coef(summary(fit))[,4]\n",
    "    \n",
    "    #Format the p-value\n",
    "    st <- stars.pval(p)\n",
    "    #p <- format.pval(p, digits=2, nsmall=3, eps=0.001)\n",
    "    p <- pfmt(p)\n",
    "    \n",
    "    # Format the OR and CI\n",
    "    or <- format(round(or, 2), nsmall = 2)\n",
    "    ci <- format(round(ci, 2), nsmall = 2)\n",
    "    \n",
    "    # Construct a pretty version of the or and ci\n",
    "    prty <- paste0(or, ' (', ci[,1], ' - ', ci[,2], ')')\n",
    "    \n",
    "    res <- data.frame(varia=rn, or=prty, p=p, stars=st)\n",
    "    \n",
    "    return(res)\n",
    "  }\n",
    "\n",
    "\n",
    "# This is a complicated function that accepts a model function and a dataset\n",
    "# and calculates two things:\n",
    "# First, it calculates bivariable logistic regressions between the outcome variable\n",
    "# in the model, and each of the predictor variables in isolation\n",
    "# Then, it calculates a full multivariable logistric regression using the model\n",
    "# \n",
    "calculateModels <- function(f, dataset) {\n",
    "  # Extract the RHS (predictor) variables\n",
    "  unimodels <- rhs.vars(f)\n",
    "  \n",
    "  # Get the LHS (response) variable\n",
    "  response <- lhs.vars(f)\n",
    "  \n",
    "  # Perform bivariable analysis\n",
    "  unires <- data.frame()\n",
    "  # For each variable\n",
    "  for(i in 1:length(unimodels)) {\n",
    "    univar <- unimodels[i] # Get the variable\n",
    "    fituni <- glm(as.formula(paste0(response, ' ~ ',univar)), data=dataset, family=\"binomial\") # Dynamically construct the formula and run logistic regression\n",
    "    crudeor <- extractORandCI(fituni) # Get the odds ratios and CI's\n",
    "    crudeor <- tail(crudeor, -1) # Disregard the intercept term in each crude analysis\n",
    "    unires <- rbind(unires, crudeor) # Add to the accumulating table\n",
    "  }\n",
    "  unires$fit.type=\"bivariable\"\n",
    "  \n",
    "  # Perform multivariable analysis\n",
    "  multifit <- glm(f, data=dataset, family=\"binomial\") # Perform the fit\n",
    "  multires <- extractORandCI(multifit) # Get the OR and CI's from the fit\n",
    "  multires <- tail(multires, -1) # Disregard the intercept term in each crude analysis\n",
    "  multires$fit.type=\"multivariable\" \n",
    "\n",
    "  # Append the multivariable and bivariable data tables  \n",
    "  full_result <- rbind(unires, multires)\n",
    "  \n",
    "  # Reformat this table so that rows corrospond to a variable and the bivariable and multivariables\n",
    "  # odds ratios show up on the left/right of the table, respectively\n",
    "  full_result <- full_result %>%\n",
    "    pivot_wider(names_from=fit.type, values_from=c('or', 'p', 'stars')) %>%\n",
    "    dplyr::select(-c(stars_bivariable)) %>%\n",
    "    dplyr::relocate(or_multivariable, .after = p_bivariable)\n",
    "\n",
    "  # Calcualte a chi-square for the model\n",
    "  mchi <- with(multifit, pchisq(null.deviance - deviance, df.null - df.residual, lower.tail = FALSE))\n",
    "  \n",
    "  # Calculate variance inflation factors (VIF) which check for multicollinearity\n",
    "  vif <- car::vif(multifit)\n",
    "  \n",
    "  # Get some performance statistics (e.g., C-statistic, etc) for the multivariable fit\n",
    "  multistats <- lrm(formula=f, data=dataset)$stats\n",
    "  \n",
    "  # Return all of this to the user\"\n",
    "    # datatable: This is the summary table containing bivariable and multivariable results\n",
    "    # datatable_multi: This is just the multivariable data table in isolation\n",
    "    # multi_chisq: The chi-square for the multivariable fit\n",
    "    # vif: The variance inflation factors for each variable in the multivariable fit to check for multicollinearity\n",
    "    # multifit: The actual logistic regression fit object (in case downstream analysis is needed)\n",
    "    # multistats: The performance statistics of the multivariable fit\n",
    "  return(list(datatable=full_result, datatable_multi=multires, multi_chisq=mchi, vif=vif, multifit=multifit, multistats=multistats))\n",
    "}"
   ]
  },
  {
   "cell_type": "markdown",
   "id": "ec2ed306",
   "metadata": {},
   "source": [
    "# Load Data"
   ]
  },
  {
   "cell_type": "code",
   "execution_count": null,
   "id": "d2ef3dcd",
   "metadata": {},
   "outputs": [],
   "source": [
    "# This snippet is almost entirely drawn from the All of Us snippets library\n",
    "# (see the toolbar at the top of the Researcher Workbench's jupyter envirionment\n",
    "# for this and other snippets)\n",
    "\n",
    "# In this analysis, we loaded a CSV file created by python called processed-data.csv\n",
    "name_of_file_in_bucket <- 'processed-data.csv'\n",
    "\n",
    "# This gets the name of the Google bucket that we are storing data in\n",
    "my_bucket <- Sys.getenv('WORKSPACE_BUCKET')\n",
    "\n",
    "# This copies the file we want from our workspace bucket to the local envirionment\n",
    "system(paste0(\"gsutil cp \", my_bucket, \"/data/\", name_of_file_in_bucket, \" .\"), intern=T)\n",
    "\n",
    "# This actually reads the data in\n",
    "dat_raw  <- read_csv(name_of_file_in_bucket)\n"
   ]
  },
  {
   "cell_type": "markdown",
   "id": "55b2705c",
   "metadata": {},
   "source": [
    "# The Analysis"
   ]
  },
  {
   "cell_type": "code",
   "execution_count": null,
   "id": "e3e46fed",
   "metadata": {},
   "outputs": [],
   "source": [
    "# Get the colums we need\n",
    "dat <- dat_raw %>% select(all_of(c('vbt', 'fi_ranout', 'fi_worried', 'social_risk', 'metformin', 'age', 'male')))\n",
    "\n",
    "# Set the data types for ordinal variables\n",
    "dat$fi_ranout <- ordered(dat$fi_ranout, levels=c('Never true', 'Sometimes true', 'Often true')) # Experience of food insecurity\n",
    "dat$fi_worried <- ordered(dat$fi_worried, levels=c('Never true', 'Sometimes true', 'Often true')) # Worry about food insecurity\n",
    "\n",
    "# Construct some binary variables as predictors in the regression\n",
    "dat$fi_ranout.bin <- (dat$fi_ranout > 'Never true')\n",
    "dat$fi_worried.bin <- (dat$fi_worried > 'Never true')\n",
    "\n",
    "# Construct Vitamin B12 levels \n",
    "dat$vbt200 = (dat$vbt < 200)\n",
    "dat$vbt300 = (dat$vbt < 300)\n",
    "dat$vbt400 = (dat$vbt < 400)\n",
    "dat$vbt500 = (dat$vbt < 500)\n",
    "\n",
    "# Here is a very simple example of how to run a logistic regression on this data\n",
    "model <- glm((vbt < 300) ~ (fi_ranout > 'Never true') + age + metformin + male, dat=dat, family='binomial')\n",
    "\n",
    "# Display the model data (does not give odds ratios or CI's directly, but you can view the p-values for your\n",
    "# significant variables)\n",
    "summary(model)"
   ]
  },
  {
   "cell_type": "code",
   "execution_count": null,
   "id": "87be71a1",
   "metadata": {},
   "outputs": [],
   "source": [
    "# What we'll actually do is instead use the calculateModels function, from above, to fit \n",
    "# multivariable and bivariable models all in one step\n",
    "\n",
    "# Calculate the primary outcome (VitB12 < 300 pg/mL)\n",
    "model300 <- calculateModels(vbt300 ~ fi_ranout.bin + age + metformin + male, dat)"
   ]
  },
  {
   "cell_type": "code",
   "execution_count": null,
   "id": "cc78bee0",
   "metadata": {},
   "outputs": [],
   "source": [
    "# Sensitivity: Explore alternative Vitamin B12 thresholds\n",
    "model200 <- calculateModels(vbt200 ~ fi_ranout.bin + age + metformin + male, dat)\n",
    "model400 <- calculateModels(vbt400 ~ fi_ranout.bin + age + metformin + male, dat)\n",
    "model500 <- calculateModels(vbt500 ~ fi_ranout.bin + age + metformin + male, dat)"
   ]
  },
  {
   "cell_type": "code",
   "execution_count": null,
   "id": "fcaee4fc",
   "metadata": {},
   "outputs": [],
   "source": [
    "# Sensitivity: Using worried instead of experience\n",
    "model200w <- calculateModels(vbt200 ~ fi_worried.bin + age + metformin + male, dat)\n",
    "model300w <- calculateModels(vbt300 ~ fi_worried.bin + age + metformin + male, dat)\n",
    "model400w <- calculateModels(vbt400 ~ fi_worried.bin + age + metformin + male, dat)\n",
    "model500w <- calculateModels(vbt500 ~ fi_worried.bin + age + metformin + male, dat)"
   ]
  },
  {
   "cell_type": "code",
   "execution_count": null,
   "id": "55066e3f",
   "metadata": {},
   "outputs": [],
   "source": [
    "# Sensitivity: Using composite of experience and/or worried\n",
    "model200c <- calculateModels(vbt200 ~ social_risk + age + metformin + male, dat)\n",
    "model300c <- calculateModels(vbt300 ~ social_risk + age + metformin + male, dat)\n",
    "model400c <- calculateModels(vbt400 ~ social_risk + age + metformin + male, dat)\n",
    "model500c <- calculateModels(vbt500 ~ social_risk + age + metformin + male, dat)"
   ]
  },
  {
   "cell_type": "markdown",
   "id": "3eb23ad0",
   "metadata": {},
   "source": [
    "# Results for the Primary Outcome"
   ]
  },
  {
   "cell_type": "code",
   "execution_count": null,
   "id": "7b842727",
   "metadata": {},
   "outputs": [],
   "source": [
    "# Display the summary data table for the multivariable analysis\n",
    "model300$datatable"
   ]
  },
  {
   "cell_type": "markdown",
   "id": "ee5939db",
   "metadata": {},
   "source": [
    "# Results for the sensitivity analyses"
   ]
  },
  {
   "cell_type": "markdown",
   "id": "537001c7",
   "metadata": {},
   "source": [
    "## Different thresholds for Vitamin B12 deficiency"
   ]
  },
  {
   "cell_type": "code",
   "execution_count": null,
   "id": "29fb042e",
   "metadata": {},
   "outputs": [],
   "source": [
    "model200$datatable\n",
    "model400$datatable\n",
    "model500$datatable"
   ]
  },
  {
   "cell_type": "markdown",
   "id": "e141298f",
   "metadata": {},
   "source": [
    "## Worry about food insecurity instead of experience of food insecurity"
   ]
  },
  {
   "cell_type": "code",
   "execution_count": null,
   "id": "e3008e3d",
   "metadata": {},
   "outputs": [],
   "source": [
    "model200w$datatable\n",
    "model300w$datatable\n",
    "model400w$datatable\n",
    "model500w$datatable"
   ]
  },
  {
   "cell_type": "markdown",
   "id": "b5240818",
   "metadata": {},
   "source": [
    "## Sensitivity: Composite variable of worry and/or experience of food insecurity"
   ]
  },
  {
   "cell_type": "code",
   "execution_count": null,
   "id": "dd02f677",
   "metadata": {},
   "outputs": [],
   "source": [
    "model200c$datatable\n",
    "model300c$datatable\n",
    "model400c$datatable\n",
    "model500c$datatable"
   ]
  },
  {
   "cell_type": "markdown",
   "id": "c48fdd10",
   "metadata": {},
   "source": [
    "## An additional sensitivity analysis changing age to a 4-level variable instead of a continuous one"
   ]
  },
  {
   "cell_type": "code",
   "execution_count": null,
   "id": "1653aafc",
   "metadata": {},
   "outputs": [],
   "source": [
    "dat$age.quant = quantcut(dat$age, q = 4)\n",
    "model200aq <- calculateModels(vbt200 ~ fi_ranout.bin + age.quant + metformin + male, dat)\n",
    "model300aq <- calculateModels(vbt300 ~ fi_ranout.bin + age.quant + metformin + male, dat)\n",
    "model400aq <- calculateModels(vbt400 ~ fi_ranout.bin + age.quant + metformin + male, dat)\n",
    "model500aq <- calculateModels(vbt500 ~ fi_ranout.bin + age.quant + metformin + male, dat)"
   ]
  },
  {
   "cell_type": "code",
   "execution_count": null,
   "id": "a7c9dbe6",
   "metadata": {},
   "outputs": [],
   "source": [
    "model200aq$datatable\n",
    "model300aq$datatable\n",
    "model400aq$datatable\n",
    "model500aq$datatable"
   ]
  },
  {
   "cell_type": "markdown",
   "id": "9985f453",
   "metadata": {},
   "source": [
    "# Data about the sample"
   ]
  },
  {
   "cell_type": "code",
   "execution_count": null,
   "id": "59b74dd0",
   "metadata": {},
   "outputs": [],
   "source": [
    "# This shows some examples of how to extract information about the sample\n",
    "\n",
    "# Get the total number of rows in the sample\n",
    "nrow(dat)\n",
    "\n",
    "# Show the total number of people with various levels of Vitamin B12 deficiency\n",
    "\n",
    "# This basically does \"For each person, if vitamin B12 is less than 200, output a 1, otherwise output a zero. \n",
    "# Then sum this up.\" It counts the total numbe rof people with Vitamin B12 < 200.\n",
    "sum(ifelse(dat$vbt < 200, 1, 0))\n",
    "\n",
    "# Same thing for 300 pg/mL, 400 pg/mL and 500 pg/mL\n",
    "sum(ifelse(dat$vbt < 300, 1, 0))\n",
    "sum(ifelse(dat$vbt < 400, 1, 0))\n",
    "sum(ifelse(dat$vbt < 500, 1, 0))"
   ]
  },
  {
   "cell_type": "code",
   "execution_count": null,
   "id": "eca305b7",
   "metadata": {},
   "outputs": [],
   "source": [
    "# Show the distribution of male and female participant\n",
    "table(dat$male, exclude=NULL)"
   ]
  },
  {
   "cell_type": "code",
   "execution_count": null,
   "id": "482f966d",
   "metadata": {},
   "outputs": [],
   "source": [
    "# Alternatively, you can do the same thing with dplyr, which looks nicer (if somewhat more verbose)\n",
    "dat %>%\n",
    "    group_by(male) %>%\n",
    "    dplyr::summarize(count=n())"
   ]
  },
  {
   "cell_type": "code",
   "execution_count": null,
   "id": "6b1f3b12",
   "metadata": {},
   "outputs": [],
   "source": [
    "# Show the age distribution\n",
    "table(dat$age.quant, exclude=NULL)"
   ]
  },
  {
   "cell_type": "code",
   "execution_count": null,
   "id": "047f474f",
   "metadata": {},
   "outputs": [],
   "source": [
    "# Metformin distribution\n",
    "table(dat$metformin, exclude=NULL)"
   ]
  },
  {
   "cell_type": "code",
   "execution_count": null,
   "id": "03b7debb",
   "metadata": {},
   "outputs": [],
   "source": [
    "# Get min, Q1, median, Q3, max of ages\n",
    "quantile(dat$age, exclude=NULL)"
   ]
  },
  {
   "cell_type": "code",
   "execution_count": null,
   "id": "6b348b68",
   "metadata": {},
   "outputs": [],
   "source": [
    "# Show the distribution for experience of food insecurity (and the percentages)\n",
    "table(dat$fi_ranout)\n",
    "table(dat$fi_ranout) / sum(table(dat$fi_ranout)) * 100"
   ]
  },
  {
   "cell_type": "code",
   "execution_count": null,
   "id": "b26e6d61",
   "metadata": {},
   "outputs": [],
   "source": [
    "# Show the distribution for worry about food insecurity (and the percentages)\n",
    "table(dat$fi_worried)\n",
    "table(dat$fi_worried) / sum(table(dat$fi_worried)) * 100"
   ]
  },
  {
   "cell_type": "code",
   "execution_count": null,
   "id": "6ac84c7c",
   "metadata": {},
   "outputs": [],
   "source": [
    "# Show the racial distribution\n",
    "table(dat_raw$race, exclude=NULL)"
   ]
  },
  {
   "cell_type": "code",
   "execution_count": null,
   "id": "b9eddf54",
   "metadata": {},
   "outputs": [],
   "source": [
    "# Show the ethnicity distribution\n",
    "table(dat_raw$ethnicity, exclude=NULL)"
   ]
  },
  {
   "cell_type": "code",
   "execution_count": null,
   "id": "ab74eb25",
   "metadata": {},
   "outputs": [],
   "source": [
    "# Show the sex at birth distribution\n",
    "table(dat_raw$sex_at_birth, exclude=NULL)"
   ]
  },
  {
   "cell_type": "code",
   "execution_count": null,
   "id": "9ffd75df",
   "metadata": {},
   "outputs": [],
   "source": [
    "# Show the joint distribution of sex at birth and gender\n",
    "# This is hard to read if you use 'table' so instead we'll use the dplyr approach\n",
    "dat_raw %>%\n",
    "    group_by(gender, sex_at_birth) %>%\n",
    "    dplyr::summarize(count=n())"
   ]
  },
  {
   "cell_type": "code",
   "execution_count": null,
   "id": "5e4b92ba",
   "metadata": {},
   "outputs": [],
   "source": [
    "# You could have calcualted the joint distribution with table, but it's hard to read:\n",
    "with(dat_raw, table(gender, sex_at_birth, exclude=NULL))"
   ]
  },
  {
   "cell_type": "code",
   "execution_count": null,
   "id": "0733a588",
   "metadata": {},
   "outputs": [],
   "source": [
    "# Figure out which version of R we're using\n",
    "version"
   ]
  },
  {
   "cell_type": "code",
   "execution_count": null,
   "id": "38092a28",
   "metadata": {},
   "outputs": [],
   "source": [
    "# Check on the recorded units of the Vitamin B12 serum levels\n",
    "dat_raw %>%\n",
    "    group_by(unit_concept_name) %>%\n",
    "    dplyr::summarize(count=n())"
   ]
  }
 ],
 "metadata": {
  "kernelspec": {
   "display_name": "R",
   "language": "R",
   "name": "ir"
  },
  "language_info": {
   "codemirror_mode": "r",
   "file_extension": ".r",
   "mimetype": "text/x-r-source",
   "name": "R",
   "pygments_lexer": "r",
   "version": "4.2.2"
  },
  "toc": {
   "base_numbering": 1,
   "nav_menu": {},
   "number_sections": true,
   "sideBar": true,
   "skip_h1_title": false,
   "title_cell": "Table of Contents",
   "title_sidebar": "Contents",
   "toc_cell": false,
   "toc_position": {},
   "toc_section_display": true,
   "toc_window_display": false
  }
 },
 "nbformat": 4,
 "nbformat_minor": 5
}
